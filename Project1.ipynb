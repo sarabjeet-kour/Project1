{
 "cells": [
  {
   "cell_type": "code",
   "execution_count": 7,
   "id": "b5880bcf-e084-4ae6-b6ac-377dce1ec9ef",
   "metadata": {},
   "outputs": [
    {
     "name": "stdout",
     "output_type": "stream",
     "text": [
      "55\n"
     ]
    }
   ],
   "source": [
    "#Create two numbers. One float another integer. Add two numbers and print the result in  integer format.\"\n",
    "a=40.55\n",
    "b=15\n",
    "print(int(a+b))\n"
   ]
  },
  {
   "cell_type": "code",
   "execution_count": 12,
   "id": "3c358d32-2389-4819-b58f-831c699443c6",
   "metadata": {},
   "outputs": [
    {
     "name": "stdout",
     "output_type": "stream",
     "text": [
      "sorted_asc_list: [1, 2, 3, 4, 5, 6, 7, 8, 9, 10]\n",
      "Desc_sort: [10, 9, 8, 7, 6, 5, 4, 3, 2, 1]\n"
     ]
    }
   ],
   "source": [
    "#Create a list with numbers 1 to 10 and sort it in ascending and descending order.\"\n",
    "list=[1,2,3,4,6,5,7,9,8,10]\n",
    "list.sort()\n",
    "print(\"sorted_asc_list:\", list)\n",
    "list.sort(reverse=True)\n",
    "print(\"Desc_sort:\", list)"
   ]
  },
  {
   "cell_type": "code",
   "execution_count": 1,
   "id": "9270cccc-c67e-4682-981d-0bbd17fbd1ef",
   "metadata": {},
   "outputs": [
    {
     "name": "stdout",
     "output_type": "stream",
     "text": [
      "43\n"
     ]
    }
   ],
   "source": [
    "#Create a list with numbers 1 to 10 in it ([1,2,3….10]) Write a for loop on this list to sum up all numbers in the list except 5 and 7. Print the result.\"\n",
    "num=[1,2,3,4,5,6,7,8,9,10]\n",
    "\n",
    "sum_1=0\n",
    "for i in num:\n",
    "    if i!=5 and i!=7:\n",
    "        sum_1=sum_1+i\n",
    "print(sum_1)\n",
    "    "
   ]
  },
  {
   "cell_type": "code",
   "execution_count": 10,
   "id": "121c03ce-c08f-499c-9d03-f5ae3cbb79b4",
   "metadata": {
    "scrolled": true
   },
   "outputs": [
    {
     "name": "stdout",
     "output_type": "stream",
     "text": [
      "list of numbers: [1, 2, 4, 5, 7, 8, 10, 11, 13, 14, 16, 17, 19, 20, 22, 23, 25, 26, 28, 29, 31, 32, 34, 35, 37, 38, 40, 41, 43, 44, 46, 47, 49, 50, 52, 53, 55, 56, 58, 59, 61, 62, 64, 65, 67, 68, 70, 71, 73, 74, 76, 77, 79, 80, 82, 83, 85, 86, 88, 89, 91, 92, 94, 95, 97, 98, 100]\n"
     ]
    }
   ],
   "source": [
    "#Write a while loop to create a list with numbers from 1 to 100. When inserting new number in the list, skip every number which is divisible by 3.  Print the result. Tip: To check whether number is divisible by 3 you can use % operator\"\n",
    "\n",
    "number_range = []\n",
    "current_number = 1\n",
    "\n",
    "while current_number <= 100:\n",
    "    if current_number % 3 != 0:\n",
    "        number_range.append(current_number)\n",
    "    \n",
    "    current_number += 1\n",
    "\n",
    "print(\"list of numbers:\", number_range)"
   ]
  },
  {
   "cell_type": "code",
   "execution_count": 9,
   "id": "537e8e41-86d4-48ba-99f0-b12f5535ccb7",
   "metadata": {},
   "outputs": [
    {
     "name": "stdout",
     "output_type": "stream",
     "text": [
      "pulses 250\n",
      "Almond 500\n",
      "coffee 800 This is costly item\n",
      "Rice 1000 This is costly item\n",
      "Puffed rice 400\n"
     ]
    }
   ],
   "source": [
    "# Create a dictionary with 5 key pair values. Key would be a grocery item name and value will be its price (any value in the range of 100 to 1000). \n",
    "(take any grocery items) Write a for loop to iterate over a dictionary and print key-value pairs. \n",
    "While printing if the value is greater Rs. 500 then print a line – “this is a costly item.” \\n\"\n",
    "\n",
    "\n",
    "Dict={\n",
    "    \"pulses\":250,\n",
    "    \"Almond\":500,\n",
    "    \"coffee\":800,\n",
    "    \"Rice\":1000,\n",
    "    \"Puffed rice\":400,\n",
    "    }\n",
    "     \n",
    "for key,value in Dict.items():\n",
    "        if value > 500:\n",
    "            print(key,value,\"This is costly item\")\n",
    "        else:\n",
    "            print(key,value)\n",
    "    \n",
    "    \n",
    "    "
   ]
  },
  {
   "cell_type": "code",
   "execution_count": 2,
   "id": "e72897d3-a812-4554-942f-4d9767866a74",
   "metadata": {},
   "outputs": [
    {
     "name": "stdout",
     "output_type": "stream",
     "text": [
      "{'coffee': 800, 'Rice': 1000}\n"
     ]
    }
   ],
   "source": [
    "# In the dictionary created in Task 3 delete the key value pairs where price is less than average price of all the items in the dictionary.\"\n",
    "\n",
    "Dict={\n",
    "    \"pulses\":250,\n",
    "    \"Almond\":500,\n",
    "    \"coffee\":800,\n",
    "    \"Rice\":1000,\n",
    "    \"Puffed rice\":400,\n",
    "    }\n",
    "\n",
    "total_price=0\n",
    "for price in Dict.values():\n",
    "    total_price=total_price + price\n",
    "avg_price= total_price / len(Dict)\n",
    "\n",
    "key_to_delete= []\n",
    "for key,value in Dict.items():\n",
    "    if value < avg_price:\n",
    "        key_to_delete.append(key)\n",
    "\n",
    "for key in key_to_delete:\n",
    "    del Dict[key]\n",
    "\n",
    "print(Dict)"
   ]
  },
  {
   "cell_type": "code",
   "execution_count": 1,
   "id": "0384e5af-397a-4296-8ab7-30562faa5074",
   "metadata": {},
   "outputs": [],
   "source": [
    "#Create a function which takes 2 numbers as inputs and returns the following three values. Addition of two numbers. Subtraction of two numbers. Multiplication of two numbers\"\n",
    "\n",
    "def add_sub_multi(num1, num2):\n",
    "    add = num1 + num2\n",
    "    sub = num1 - num2\n",
    "    multi = num1 * num2\n",
    "    return add, sub, multi\n"
   ]
  },
  {
   "cell_type": "code",
   "execution_count": 2,
   "id": "1a1ff310-0dc6-48c2-bd8f-75076d8e4e57",
   "metadata": {},
   "outputs": [
    {
     "name": "stdout",
     "output_type": "stream",
     "text": [
      "(22, 2, 120)\n"
     ]
    }
   ],
   "source": [
    "final = add_sub_multi(12, 10)\n",
    "print(final)"
   ]
  },
  {
   "cell_type": "code",
   "execution_count": 59,
   "id": "785a25d7-1a50-49e9-835c-27402f17ad9b",
   "metadata": {},
   "outputs": [
    {
     "name": "stdout",
     "output_type": "stream",
     "text": [
      "7\n"
     ]
    }
   ],
   "source": [
    "#\\t“i live in india since my childhood”. Count number of i in this text\"\n",
    "\n",
    "text=\"i live in india since my childhood\"\n",
    "input = text.count(\"i\")\n",
    "print(input)"
   ]
  },
  {
   "cell_type": "code",
   "execution_count": 61,
   "id": "2ffb36a9-3652-4ccd-abe4-c7d23107b7e3",
   "metadata": {},
   "outputs": [
    {
     "name": "stdout",
     "output_type": "stream",
     "text": [
      "{1, 2, 3, 4, 6, 7, 8, 9}\n"
     ]
    }
   ],
   "source": [
    "# data = [1,2,3,4,6,7,7,8,9,9]. Drop duplicate values from this list and print the remaining numbers.\"\n",
    "\n",
    "data=[1,2,3,4,6,7,7,8,9,9]\n",
    "new_data=set(data)\n",
    "print(new_data)\n",
    "\n"
   ]
  },
  {
   "cell_type": "code",
   "execution_count": 68,
   "id": "66b54e7b-da40-4dc1-9a6e-59340524b1ba",
   "metadata": {},
   "outputs": [
    {
     "name": "stdout",
     "output_type": "stream",
     "text": [
      "{1: 'ind', 2: 'aus', 3: 'eng', 4: 'pak'}\n"
     ]
    }
   ],
   "source": [
    "# \\tIf you are given two lists create a dictionary from it. keys_list = [1,2,3,4] values_list = [‘ind’, ‘aus’, ‘eng’ , ‘pak’]\"\n",
    "#keys_list = [1,2,3,4]\n",
    "#values_list = [ind’, ‘aus’, ‘eng’ , ‘pak’]\n",
    "dict={\n",
    "    1:\"ind\",\n",
    "    2:\"aus\",\n",
    "    3:\"eng\",\n",
    "    4:\"pak\",\n",
    "}\n",
    "print(dict)\n"
   ]
  },
  {
   "cell_type": "code",
   "execution_count": 75,
   "id": "98b097cb-60e5-49fb-9573-272eb55598f0",
   "metadata": {},
   "outputs": [
    {
     "name": "stdout",
     "output_type": "stream",
     "text": [
      "<class 'str'>\n",
      "<class 'float'>\n",
      "<class 'bool'>\n"
     ]
    }
   ],
   "source": [
    "#How do you check if a variable is of a certain data type in Python?\"\n",
    "input= \"sara\"\n",
    "print(type(input))\n",
    "input1=10.5\n",
    "print(type(10.5))\n",
    "input2=True\n",
    "print(type(input2))"
   ]
  },
  {
   "cell_type": "code",
   "execution_count": 78,
   "id": "dcbd03af-46ed-4a86-bb48-603702353709",
   "metadata": {},
   "outputs": [
    {
     "name": "stdout",
     "output_type": "stream",
     "text": [
      "0\n",
      "1\n",
      "2\n",
      "3\n",
      "4\n",
      "5\n",
      "6\n",
      "7\n",
      "8\n",
      "9\n",
      "10\n"
     ]
    }
   ],
   "source": [
    "# Write a program that prints the first 10 natural numbers.\\n\"\n",
    "for i in range(0,11):\n",
    "    print(i)\n"
   ]
  },
  {
   "cell_type": "code",
   "execution_count": 114,
   "id": "74c62c0f-cbdd-4e21-97dd-26bce39aee5c",
   "metadata": {},
   "outputs": [
    {
     "name": "stdout",
     "output_type": "stream",
     "text": [
      "ning\n"
     ]
    }
   ],
   "source": [
    "# Write a python code to find last 4 characters of a string : 'Machine Learning'\"\n",
    "input=\"Machine learning\"\n",
    "print(input[-4:])\n",
    "\n"
   ]
  },
  {
   "cell_type": "code",
   "execution_count": 120,
   "id": "0c9b61eb-13f7-4c4c-8b77-70e17de6fd35",
   "metadata": {},
   "outputs": [
    {
     "name": "stdout",
     "output_type": "stream",
     "text": [
      "Python\n"
     ]
    }
   ],
   "source": [
    "# Write a python code to remove blank space from string : 'P y t h o n'\\n\"\n",
    "input= 'P y t h o n'\n",
    "input2 = input.replace(\" \",\"\")\n",
    "print(input2)\n"
   ]
  },
  {
   "cell_type": "code",
   "execution_count": 5,
   "id": "ba885411-7e83-467e-b6b5-e50a36f6a04f",
   "metadata": {},
   "outputs": [
    {
     "name": "stdout",
     "output_type": "stream",
     "text": [
      "Machine Learning\n"
     ]
    }
   ],
   "source": [
    "# Write a python code to remove trailing space from string: ‘Machine Learning.\n",
    "text= 'Machine Learning '\n",
    "result=text.rstrip()\n",
    "print(result)\n",
    "\n"
   ]
  },
  {
   "cell_type": "code",
   "execution_count": 13,
   "id": "0bc2b3a9-06d7-42ff-a068-d7972b813b68",
   "metadata": {},
   "outputs": [
    {
     "name": "stdout",
     "output_type": "stream",
     "text": [
      "sum of numbers from 1 to 100: 5050\n"
     ]
    }
   ],
   "source": [
    "# Write a python code to print the summation of all the numbers from 1 to 100\"\n",
    "\n",
    "sum=0\n",
    "for num in range(1,101):\n",
    "    sum=sum+num\n",
    "print(\"sum of numbers from 1 to 100:\",sum)"
   ]
  },
  {
   "cell_type": "code",
   "execution_count": 130,
   "id": "63c80069-0140-4dea-aa26-23d0eb322cff",
   "metadata": {},
   "outputs": [
    {
     "name": "stdout",
     "output_type": "stream",
     "text": [
      "[767, 345, 106, 98, 87, 44, 37, 21]\n",
      "345\n"
     ]
    }
   ],
   "source": [
    "# Write a python code to find the second largest number in a\n",
    "list= [21,44,767,98,37,106,345,87]\n",
    "(list.sort(reverse=True))\n",
    "print(list)\n",
    "second_largest=print(list[1])"
   ]
  },
  {
   "cell_type": "code",
   "execution_count": 132,
   "id": "8f3b2c36-7165-4c55-a16c-1eb1b3f4d45c",
   "metadata": {},
   "outputs": [
    {
     "name": "stdout",
     "output_type": "stream",
     "text": [
      "False\n"
     ]
    }
   ],
   "source": [
    "# Write a python code to check given character is digit or not : 265\"\n",
    "input:265\n",
    "input2=input.isdigit()\n",
    "print(input2)"
   ]
  },
  {
   "cell_type": "code",
   "execution_count": 133,
   "id": "3fa2db9d-cc1d-4305-8aec-8e770aa5469b",
   "metadata": {},
   "outputs": [
    {
     "name": "stdout",
     "output_type": "stream",
     "text": [
      "machine learning\n"
     ]
    }
   ],
   "source": [
    "# Write a python code to Convert a string to lowercase : ‘MACHINE LEARNING’\"\n",
    "input='MACHINE LEARNING'\n",
    "input2=input.lower()\n",
    "print(input2)"
   ]
  },
  {
   "cell_type": "code",
   "execution_count": 138,
   "id": "32700ec9-250b-4bbc-be40-0e5ac8c5e9a9",
   "metadata": {},
   "outputs": [
    {
     "name": "stdout",
     "output_type": "stream",
     "text": [
      "{1, 2, 5, 6, 7}\n",
      "{0, 2, 4, 5, 8, 9}\n",
      "{2, 5}\n"
     ]
    }
   ],
   "source": [
    "# Write a Python program to find the common elements between two lists.\"\n",
    "list=[1,2,5,6,7]\n",
    "list2=[2,4,5,9,0,2,8]\n",
    "set1=set(list)\n",
    "print(set1)\n",
    "set2=set(list2)\n",
    "print(set2)\n",
    "common=set1.intersection(set2)\n",
    "print(common)"
   ]
  },
  {
   "cell_type": "code",
   "execution_count": 2,
   "id": "0b08d29e-f784-4fc2-9949-fb855fbdb64b",
   "metadata": {},
   "outputs": [
    {
     "name": "stdout",
     "output_type": "stream",
     "text": [
      "3628800\n"
     ]
    }
   ],
   "source": [
    "# Write a python function to calculate the factorial of a given integer 10\"\n",
    "\n",
    "fac=1\n",
    "for i in range(1,11):\n",
    "        fac=fac*i\n",
    "print(fac)\n",
    "    "
   ]
  },
  {
   "cell_type": "code",
   "execution_count": 29,
   "id": "9c6c1073-2b83-461f-8e7f-43faecfb29bc",
   "metadata": {},
   "outputs": [
    {
     "name": "stdout",
     "output_type": "stream",
     "text": [
      "[44, 22, 878, 90, 68]\n",
      "[21, 55, 17, 69, 91]\n"
     ]
    }
   ],
   "source": [
    "# Write a python code to create separate lists of Even and Odd numbers from a list. [21,44,22,878,55,90,17,68,69,91]\"\n",
    "list= [21,44,22,878,55,90,17,68,69,91]\n",
    "\n",
    "even=[]\n",
    "odd=[]\n",
    "for i in list:\n",
    "    if i%2==0:\n",
    "        even.append(i)\n",
    "    else:\n",
    "        odd.append(i)\n",
    "        i=i+1\n",
    "\n",
    "print(even)\n",
    "print(odd)"
   ]
  },
  {
   "cell_type": "code",
   "execution_count": 43,
   "id": "ed12d212-c4cd-45f4-a582-a39536e0c868",
   "metadata": {},
   "outputs": [
    {
     "name": "stdout",
     "output_type": "stream",
     "text": [
      "21\n",
      "65\n",
      "832\n",
      "930\n",
      "967\n"
     ]
    }
   ],
   "source": [
    "# Calculate the sum of all numbers in a list using a loop. [21,44,767,98,37]\"\n",
    "list= [21,44,767,98,37]\n",
    "\n",
    "sum=0\n",
    "for i in list:\n",
    "    sum= sum+ i\n",
    "    print(sum)"
   ]
  },
  {
   "cell_type": "code",
   "execution_count": 1,
   "id": "09915f6b-3d90-41fb-bf7a-ec3baa95ce90",
   "metadata": {},
   "outputs": [
    {
     "name": "stdout",
     "output_type": "stream",
     "text": [
      "Original List: [12, 3, 41, 7, 9, 111]\n",
      "Square of each number: [144, 9, 1681, 49, 81, 12321]\n",
      "Cube of each number: [1728, 27, 68921, 343, 729, 1367631]\n"
     ]
    }
   ],
   "source": [
    "# Write a python code to find square and cube of every number in a given list of integers using Lambda. list1 = [12,3,41,7,9,111]\"\n",
    "list1 = [12, 3, 41, 7, 9, 111]\n",
    "\n",
    "# Using lambda functions with map\n",
    "square_result = list(map(lambda x: x ** 2, list1))\n",
    "cube_result = list(map(lambda x: x ** 3, list1))\n",
    "\n",
    "print(\"Original List:\", list1)\n",
    "print(\"Square of each number:\", square_result)\n",
    "print(\"Cube of each number:\", cube_result)\n"
   ]
  },
  {
   "cell_type": "code",
   "execution_count": 48,
   "id": "6ff511af-435b-4e9c-9715-c26b7511df02",
   "metadata": {},
   "outputs": [
    {
     "data": {
      "text/plain": [
       "5"
      ]
     },
     "execution_count": 48,
     "metadata": {},
     "output_type": "execute_result"
    }
   ],
   "source": [
    "# Write a python code to count the number of occurrences of a character ‘e’ in a string. ‘Machine Learning and Deep Learning’\"\n",
    "\n",
    "input =\"Machine Learning and Deep Learning\"\n",
    "\n",
    "input.count(\"e\")"
   ]
  },
  {
   "cell_type": "code",
   "execution_count": 49,
   "id": "d0ceb84f-8beb-49c5-a1a0-91431f6f6052",
   "metadata": {},
   "outputs": [
    {
     "name": "stdout",
     "output_type": "stream",
     "text": [
      "564\n"
     ]
    }
   ],
   "source": [
    "# calculate the absolute value of a number -564\"\n",
    "\n",
    "number= 564\n",
    "result=abs(number)\n",
    "print(result)"
   ]
  },
  {
   "cell_type": "code",
   "execution_count": 1,
   "id": "46d5a408-8d77-40ce-9860-9a01ee1665bf",
   "metadata": {},
   "outputs": [
    {
     "name": "stdout",
     "output_type": "stream",
     "text": [
      "contains only alphabetic characters\n"
     ]
    }
   ],
   "source": [
    "# Write a python code to check if a string contains only alphabetic characters. String = ‘HelloPython’\n",
    "text= 'HelloPython'\n",
    "if text.isalpha():\n",
    "    print(\"contains only alphabetic characters\")\n"
   ]
  },
  {
   "cell_type": "code",
   "execution_count": 9,
   "id": "4b1289c7-bc76-4d02-8e5f-a311d57dd619",
   "metadata": {},
   "outputs": [
    {
     "name": "stdout",
     "output_type": "stream",
     "text": [
      "1\n",
      "2\n",
      "3\n",
      "4\n",
      "5\n",
      "6\n",
      "7\n",
      "8\n",
      "9\n",
      "10\n"
     ]
    }
   ],
   "source": [
    "# Write a program that prints the first 10 natural numbers.\n",
    "\n",
    "i=1\n",
    "for i in range(1,11):\n",
    "    print(i)"
   ]
  },
  {
   "cell_type": "code",
   "execution_count": 20,
   "id": "339bded6-6fb3-4af9-b595-df31b8ba2871",
   "metadata": {
    "scrolled": true
   },
   "outputs": [
    {
     "name": "stdout",
     "output_type": "stream",
     "text": [
      "{'x': 'Delhi', 'y': 'Bangalore', 'a': 'Dhanbad', 'b': 'Amritsar'}\n"
     ]
    }
   ],
   "source": [
    "# \\tCreate two separate dictionaries and Merge them.\"\n",
    "\n",
    "Dict1= {\n",
    "    \"x\" : \"Delhi\",\n",
    "    \"y\" : \"Bangalore\",\n",
    "}\n",
    "\n",
    "Dict2 = {\n",
    "    \"a\" : \"Dhanbad\",\n",
    "    \"b\" : \"Amritsar\",\n",
    "}\n",
    "Dict1.update(Dict2)\n",
    "print(Dict1)"
   ]
  },
  {
   "cell_type": "code",
   "execution_count": 1,
   "id": "41ae8a92-85fa-414b-acde-14bc8e9bdecd",
   "metadata": {},
   "outputs": [
    {
     "name": "stdout",
     "output_type": "stream",
     "text": [
      "[3, 41, 7, 9, 111]\n"
     ]
    }
   ],
   "source": [
    "# Write a python code to filter odd numbers from the list using filter () function. \n",
    "\n",
    "my_list = [12, 3, 41, 7, 9, 111]\n",
    "\n",
    "def odd_num(i):\n",
    "    return i % 2 != 0\n",
    "\n",
    "result = filter(odd_num, my_list)\n",
    "print(list(result))"
   ]
  },
  {
   "cell_type": "code",
   "execution_count": 15,
   "id": "133c4d5b-33ba-41d3-a005-ee7fedc05b2d",
   "metadata": {},
   "outputs": [
    {
     "name": "stdout",
     "output_type": "stream",
     "text": [
      "no is even\n"
     ]
    }
   ],
   "source": [
    "# Create a function that checks if a given number is even or odd.\"\n",
    "\n",
    "x=40\n",
    "\n",
    "def even_odd():\n",
    "    if(x%2==0):\n",
    "        print(\"no is even\")\n",
    "\n",
    "even_odd()"
   ]
  },
  {
   "cell_type": "code",
   "execution_count": 35,
   "id": "7cfba1a8-c116-40ad-bf0c-5058c4d6176c",
   "metadata": {},
   "outputs": [
    {
     "name": "stdout",
     "output_type": "stream",
     "text": [
      "142\n"
     ]
    }
   ],
   "source": [
    "# Create a function to find the sum of all even numbers in a list.\n",
    "list1 = [ 21,44,767,98,37]\n",
    "\n",
    "total_sum=0\n",
    "for i in list1:\n",
    "    if i%2==0:\n",
    "        total_sum=total_sum+i\n",
    "print(total_sum)"
   ]
  },
  {
   "cell_type": "code",
   "execution_count": 11,
   "id": "b0d60d4c-f365-40a5-b897-4ae7a7734397",
   "metadata": {},
   "outputs": [
    {
     "name": "stdout",
     "output_type": "stream",
     "text": [
      "[21, 37, 44, 98, 767]\n",
      "21\n",
      "767\n"
     ]
    }
   ],
   "source": [
    "# Write a Python program to find the maximum and minimum values in a list. list1 = [ 21,44,767,98,37]\"\n",
    "list1 = [ 21,44,767,98,37]\n",
    "\n",
    "asc=list1.sort()\n",
    "print(list1)\n",
    "print(list1[0])\n",
    "print(list1[-1])"
   ]
  },
  {
   "cell_type": "code",
   "execution_count": 15,
   "id": "1245c740-c4e7-4e68-a6aa-efa5359ff2b6",
   "metadata": {},
   "outputs": [
    {
     "data": {
      "text/plain": [
       "{1, 2, 3, 4}"
      ]
     },
     "execution_count": 15,
     "metadata": {},
     "output_type": "execute_result"
    }
   ],
   "source": [
    "# Write a function to remove duplicate elements from a list.\"\n",
    "\n",
    "list=[1,2,3,4,4,2]\n",
    "\n",
    "def dup():\n",
    "    new_list=set(list)\n",
    "    return new_list\n",
    "    \n",
    "dup()"
   ]
  },
  {
   "cell_type": "code",
   "execution_count": 18,
   "id": "e55db257-64eb-4517-9fbb-fd68fe2b545f",
   "metadata": {},
   "outputs": [
    {
     "name": "stdout",
     "output_type": "stream",
     "text": [
      "{'Toyota': 2500000, 'Honda Civic': 2200000, 'Ford Mustang': 4000000, 'Chevrolet Silverado': 3500000, 'Nissan Altima': 2300000}\n"
     ]
    }
   ],
   "source": [
    "# Create a Python dictionary with keys as cars and values as their respective prices.\\n\",\n",
    "    ### car_models = [\\\"Toyota Camry\\\", \\\"Honda Civic\\\", \\\"Ford Mustang\\\", \\\"Chevrolet Silverado\\\", \\\"Nissan Altima\\\"]\\n\",\n",
    "    ### car_prices = [2500000, 2200000, 4000000, 3500000, 2300000\n",
    "\n",
    "   \n",
    "Dict={\n",
    "    \"Toyota\" : 2500000,\n",
    "    \"Honda Civic\" : 2200000,\n",
    "    \"Ford Mustang\" : 4000000,\n",
    "    \"Chevrolet Silverado\" :3500000,\n",
    "    \"Nissan Altima\" : 2300000\n",
    "}\n",
    "print(Dict)"
   ]
  },
  {
   "cell_type": "code",
   "execution_count": 21,
   "id": "6d23878f-8b3e-43ca-9b52-b039ef2ab788",
   "metadata": {},
   "outputs": [
    {
     "data": {
      "text/plain": [
       "'aras'"
      ]
     },
     "execution_count": 21,
     "metadata": {},
     "output_type": "execute_result"
    }
   ],
   "source": [
    "# Create a Python function to reverse a string.\"\n",
    "\n",
    "string=\"sara\"\n",
    "\n",
    "def rev():\n",
    "    new=string[::-1]\n",
    "    return new\n",
    "\n",
    "rev()"
   ]
  },
  {
   "cell_type": "code",
   "execution_count": 23,
   "id": "5f547eb1-a804-48c3-ad9a-8d56bc68fbc6",
   "metadata": {},
   "outputs": [
    {
     "name": "stdout",
     "output_type": "stream",
     "text": [
      "193.4\n"
     ]
    }
   ],
   "source": [
    "# Calculate the mean of a list of numbers. [ 21,44,767,98,37]\"\n",
    "\n",
    "list= [ 21,44,767,98,37]\n",
    "\n",
    "\n",
    "avg=0\n",
    "total_sum=0\n",
    "for i in list:\n",
    "    total_sum=total_sum+i\n",
    "    avg=total_sum/len(list)\n",
    "print(avg)\n",
    "    "
   ]
  },
  {
   "cell_type": "code",
   "execution_count": 25,
   "id": "ad29e9fd-552f-447f-a469-5fc0b73e4ac1",
   "metadata": {},
   "outputs": [
    {
     "name": "stdout",
     "output_type": "stream",
     "text": [
      "Positive\n",
      "Negative\n",
      "zero\n"
     ]
    }
   ],
   "source": [
    "# Write a python code to check if a number is positive, negative, or zero.\"\n",
    "\n",
    "num=[1,-2,0]\n",
    "\n",
    "for i in num:\n",
    "    if i>0:\n",
    "        print(\"Positive\")\n",
    "    elif i<0:\n",
    "        print(\"Negative\")\n",
    "    else:\n",
    "        print(\"zero\")\n",
    "        \n"
   ]
  },
  {
   "cell_type": "code",
   "execution_count": 45,
   "id": "0894ff9c-7978-43df-ac2d-43e9f61d317f",
   "metadata": {},
   "outputs": [
    {
     "name": "stdout",
     "output_type": "stream",
     "text": [
      "['Data', 'Science', 'and', 'Machine', 'Learning']\n",
      "4\n",
      "7\n",
      "7\n",
      "7\n",
      "8\n"
     ]
    }
   ],
   "source": [
    "# Find the length of the longest word in a string: ‘Data Science and Machine Learning’\"\n",
    "\n",
    "string1= 'Data Science and Machine Learning'\n",
    "word=string1.split(\" \")\n",
    "print(word)\n",
    "\n",
    "\n",
    "max_len=0\n",
    "for i in word:\n",
    "    if len(i)>max_len:\n",
    "        max_len=len(i)\n",
    "    print(max_len)\n"
   ]
  },
  {
   "cell_type": "code",
   "execution_count": null,
   "id": "7cca08e5-3a88-44d5-bc98-6c519e9986e6",
   "metadata": {},
   "outputs": [],
   "source": []
  }
 ],
 "metadata": {
  "kernelspec": {
   "display_name": "Python 3 (ipykernel)",
   "language": "python",
   "name": "python3"
  },
  "language_info": {
   "codemirror_mode": {
    "name": "ipython",
    "version": 3
   },
   "file_extension": ".py",
   "mimetype": "text/x-python",
   "name": "python",
   "nbconvert_exporter": "python",
   "pygments_lexer": "ipython3",
   "version": "3.11.7"
  }
 },
 "nbformat": 4,
 "nbformat_minor": 5
}
